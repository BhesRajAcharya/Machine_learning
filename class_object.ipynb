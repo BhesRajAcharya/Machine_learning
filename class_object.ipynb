{
 "cells": [
  {
   "cell_type": "code",
   "execution_count": 2,
   "id": "4430821f",
   "metadata": {},
   "outputs": [],
   "source": [
    "class Dog:\n",
    "    def __init__(self,name,age):\n",
    "        self.name=name\n",
    "        self.age=age\n",
    "    def bark(self):\n",
    "        print(f\"{self.name} is barking\")"
   ]
  },
  {
   "cell_type": "code",
   "execution_count": 3,
   "id": "32ede8a2",
   "metadata": {},
   "outputs": [],
   "source": [
    "dog=Dog('tommy',5)"
   ]
  },
  {
   "cell_type": "code",
   "execution_count": 4,
   "id": "b3d6492a",
   "metadata": {},
   "outputs": [
    {
     "name": "stdout",
     "output_type": "stream",
     "text": [
      "tommy is barking\n"
     ]
    }
   ],
   "source": [
    "dog.bark()"
   ]
  },
  {
   "cell_type": "code",
   "execution_count": 6,
   "id": "31ca563b",
   "metadata": {},
   "outputs": [
    {
     "name": "stdout",
     "output_type": "stream",
     "text": [
      "<class '__main__.Dog'>\n"
     ]
    }
   ],
   "source": [
    "print(type(dog))"
   ]
  },
  {
   "cell_type": "code",
   "execution_count": 54,
   "id": "0eb4f0e5",
   "metadata": {},
   "outputs": [],
   "source": [
    "class Student:\n",
    "    count=0\n",
    "    def __init__(self,name):\n",
    "        self.n=name\n",
    "        Student.count+=1\n",
    "        \n",
    "    def details(self) :\n",
    "        print(f\"{self.n} is a student\")\n",
    "    @classmethod      \n",
    "    def get_count(cls) :  \n",
    "        return cls.count\n",
    "    @staticmethod\n",
    "    def get_fullname(firstname,secondname):\n",
    "        print(f\"full name is {firstname} {secondname}\")"
   ]
  },
  {
   "cell_type": "code",
   "execution_count": 55,
   "id": "fa863305",
   "metadata": {},
   "outputs": [
    {
     "name": "stdout",
     "output_type": "stream",
     "text": [
      "0\n"
     ]
    }
   ],
   "source": [
    "print(Student.get_count())"
   ]
  },
  {
   "cell_type": "code",
   "execution_count": 56,
   "id": "f65285eb",
   "metadata": {},
   "outputs": [
    {
     "name": "stdout",
     "output_type": "stream",
     "text": [
      "bijaya is a student\n",
      "1\n"
     ]
    }
   ],
   "source": [
    "s=Student('bijaya')\n",
    "s.details()\n",
    "print(Student.get_count())"
   ]
  },
  {
   "cell_type": "code",
   "execution_count": 57,
   "id": "04236853",
   "metadata": {},
   "outputs": [
    {
     "name": "stdout",
     "output_type": "stream",
     "text": [
      "2\n"
     ]
    }
   ],
   "source": [
    "s1=Student('ram')\n",
    "print(Student.get_count())"
   ]
  },
  {
   "cell_type": "code",
   "execution_count": 58,
   "id": "bf92fdfc",
   "metadata": {},
   "outputs": [
    {
     "name": "stdout",
     "output_type": "stream",
     "text": [
      "full name is bijaya acharya\n",
      "None\n"
     ]
    }
   ],
   "source": [
    "print(Student.get_fullname('bijaya','acharya'))"
   ]
  },
  {
   "cell_type": "markdown",
   "id": "7af16a81",
   "metadata": {},
   "source": [
    "# method overloading in python"
   ]
  },
  {
   "cell_type": "code",
   "execution_count": 1,
   "id": "9f54a734",
   "metadata": {},
   "outputs": [],
   "source": [
    "class Example:\n",
    "    def add(self,a,b=None,c=None):\n",
    "        if b is not None and c is not None:\n",
    "            return a+b+c\n",
    "        elif b is not None:\n",
    "            return a+b\n",
    "        else:\n",
    "            return a"
   ]
  },
  {
   "cell_type": "code",
   "execution_count": 2,
   "id": "3f408c81",
   "metadata": {},
   "outputs": [
    {
     "data": {
      "text/plain": [
       "6"
      ]
     },
     "execution_count": 2,
     "metadata": {},
     "output_type": "execute_result"
    }
   ],
   "source": [
    "e=Example()\n",
    "e.add(1,2,3)"
   ]
  },
  {
   "cell_type": "code",
   "execution_count": 3,
   "id": "215ca202",
   "metadata": {},
   "outputs": [
    {
     "data": {
      "text/plain": [
       "6"
      ]
     },
     "execution_count": 3,
     "metadata": {},
     "output_type": "execute_result"
    }
   ],
   "source": [
    "e.add(2,4)"
   ]
  },
  {
   "cell_type": "code",
   "execution_count": 4,
   "id": "51f3b90b",
   "metadata": {},
   "outputs": [
    {
     "data": {
      "text/plain": [
       "5"
      ]
     },
     "execution_count": 4,
     "metadata": {},
     "output_type": "execute_result"
    }
   ],
   "source": [
    "e.add(5)"
   ]
  },
  {
   "cell_type": "markdown",
   "id": "b9f2f745",
   "metadata": {},
   "source": [
    "# second method"
   ]
  },
  {
   "cell_type": "code",
   "execution_count": 10,
   "id": "a1cf2a83",
   "metadata": {},
   "outputs": [],
   "source": [
    "class Second:\n",
    "    def add(self,*args):\n",
    "        if len(args)==1:\n",
    "            return args[0]\n",
    "        elif len(args)==2:\n",
    "            return args[0]+args[1]\n",
    "        elif len(args)==3:\n",
    "            return args[0]+args[1]+args[2]"
   ]
  },
  {
   "cell_type": "code",
   "execution_count": 11,
   "id": "aa3cef01",
   "metadata": {},
   "outputs": [
    {
     "data": {
      "text/plain": [
       "12"
      ]
     },
     "execution_count": 11,
     "metadata": {},
     "output_type": "execute_result"
    }
   ],
   "source": [
    "s=Second()\n",
    "s.add(3,4,5)"
   ]
  },
  {
   "cell_type": "code",
   "execution_count": 12,
   "id": "b0da51ed",
   "metadata": {},
   "outputs": [
    {
     "data": {
      "text/plain": [
       "7"
      ]
     },
     "execution_count": 12,
     "metadata": {},
     "output_type": "execute_result"
    }
   ],
   "source": [
    "s.add(3,4)"
   ]
  },
  {
   "cell_type": "code",
   "execution_count": 13,
   "id": "07451290",
   "metadata": {},
   "outputs": [
    {
     "data": {
      "text/plain": [
       "5"
      ]
     },
     "execution_count": 13,
     "metadata": {},
     "output_type": "execute_result"
    }
   ],
   "source": [
    "s.add(5)"
   ]
  },
  {
   "cell_type": "markdown",
   "id": "89c22282",
   "metadata": {},
   "source": [
    "# inheritance"
   ]
  },
  {
   "cell_type": "code",
   "execution_count": 29,
   "id": "d4fa6cef",
   "metadata": {},
   "outputs": [],
   "source": [
    "class Person:\n",
    "    def __init__(self,name,age):\n",
    "        self.name=name\n",
    "        self.age=age\n",
    "    def intro(self):\n",
    "        print(\"hello i am a person.\")"
   ]
  },
  {
   "cell_type": "code",
   "execution_count": 32,
   "id": "2008dd1d",
   "metadata": {},
   "outputs": [],
   "source": [
    "class Employee(Person):\n",
    "    def __init__(self,name,age,department,salary):\n",
    "        super().__init__(name,age)\n",
    "        self.department=department\n",
    "        self.salary=salary\n",
    "        \n",
    "    def display(self):\n",
    "        print(f\"my name is {self.name} i am {self.age} years old and work in {self.department} department and my salary is {self.salary}\")"
   ]
  },
  {
   "cell_type": "code",
   "execution_count": 33,
   "id": "66a1f989",
   "metadata": {},
   "outputs": [
    {
     "name": "stdout",
     "output_type": "stream",
     "text": [
      "hello i am a person.\n",
      "my name is bijaya i am 17 years old and work in physics department and my salary is 20000\n"
     ]
    }
   ],
   "source": [
    "emp=Employee('bijaya',17,'physics',20000)\n",
    "emp.intro()\n",
    "emp.display()"
   ]
  },
  {
   "cell_type": "markdown",
   "id": "b53f0b2c",
   "metadata": {},
   "source": [
    "# multiple inheritence"
   ]
  },
  {
   "cell_type": "code",
   "execution_count": 40,
   "id": "1061b37c",
   "metadata": {},
   "outputs": [],
   "source": [
    "class Parent:\n",
    "    def func1(self):\n",
    "        print('this is a first parent class')"
   ]
  },
  {
   "cell_type": "code",
   "execution_count": 41,
   "id": "deead570",
   "metadata": {},
   "outputs": [],
   "source": [
    "class Parent1:\n",
    "    def func2(self):\n",
    "        print('this is a second parent class')"
   ]
  },
  {
   "cell_type": "code",
   "execution_count": 42,
   "id": "8db8e6e9",
   "metadata": {},
   "outputs": [],
   "source": [
    "class child(Parent,Parent1):\n",
    "    def func3(self):\n",
    "        print('this is a child class')"
   ]
  },
  {
   "cell_type": "code",
   "execution_count": 43,
   "id": "b706d1ed",
   "metadata": {},
   "outputs": [
    {
     "name": "stdout",
     "output_type": "stream",
     "text": [
      "this is a first parent class\n"
     ]
    }
   ],
   "source": [
    "ch=child()\n",
    "ch.func1()"
   ]
  },
  {
   "cell_type": "code",
   "execution_count": 44,
   "id": "2d32fec9",
   "metadata": {},
   "outputs": [
    {
     "name": "stdout",
     "output_type": "stream",
     "text": [
      "this is a second parent class\n"
     ]
    }
   ],
   "source": [
    "ch.func2()"
   ]
  },
  {
   "cell_type": "code",
   "execution_count": 45,
   "id": "c45dfaa6",
   "metadata": {},
   "outputs": [
    {
     "name": "stdout",
     "output_type": "stream",
     "text": [
      "this is a child class\n"
     ]
    }
   ],
   "source": [
    "ch.func3()"
   ]
  },
  {
   "cell_type": "markdown",
   "id": "b9653873",
   "metadata": {},
   "source": [
    "# multilevel inheritence"
   ]
  },
  {
   "cell_type": "code",
   "execution_count": 46,
   "id": "ded9deca",
   "metadata": {},
   "outputs": [],
   "source": [
    "class A:\n",
    "    def method_a(self):\n",
    "        print('This is method A form class A')"
   ]
  },
  {
   "cell_type": "code",
   "execution_count": 47,
   "id": "9f1de6dc",
   "metadata": {},
   "outputs": [],
   "source": [
    "class B(A):\n",
    "    def method_b(self):\n",
    "        print('This is method B from class B')"
   ]
  },
  {
   "cell_type": "code",
   "execution_count": 48,
   "id": "db0236d7",
   "metadata": {},
   "outputs": [],
   "source": [
    "class C(B):\n",
    "    def method_c(self):\n",
    "        print('This is method C from class C')"
   ]
  },
  {
   "cell_type": "code",
   "execution_count": 58,
   "id": "3dc78000",
   "metadata": {},
   "outputs": [
    {
     "name": "stdout",
     "output_type": "stream",
     "text": [
      "This is method A form class A\n",
      "This is method B from class B\n",
      "This is method C from class C\n",
      "This is method A form class A\n",
      "This is method B from class B\n"
     ]
    }
   ],
   "source": [
    "c=C()\n",
    "c.method_a()\n",
    "c.method_b()\n",
    "c.method_c()\n",
    "b=B()\n",
    "b.method_a()\n",
    "b.method_b()"
   ]
  },
  {
   "cell_type": "code",
   "execution_count": 63,
   "id": "cedf71e0",
   "metadata": {},
   "outputs": [],
   "source": [
    "class Animal:\n",
    "    def __init__(self,name):\n",
    "        self.name=name"
   ]
  },
  {
   "cell_type": "code",
   "execution_count": 64,
   "id": "90a9eb97",
   "metadata": {},
   "outputs": [],
   "source": [
    "class Cat(Animal):\n",
    "    def speak(self):\n",
    "        return 'meow'"
   ]
  },
  {
   "cell_type": "code",
   "execution_count": 65,
   "id": "35c7da95",
   "metadata": {},
   "outputs": [],
   "source": [
    "class Lion(Animal):\n",
    "    def speak(self):\n",
    "        return 'roar'\n"
   ]
  },
  {
   "cell_type": "code",
   "execution_count": 66,
   "id": "e96c8e04",
   "metadata": {},
   "outputs": [],
   "source": [
    "class Dog(Animal):\n",
    "    def speak(self):\n",
    "        return 'woof'"
   ]
  },
  {
   "cell_type": "code",
   "execution_count": 68,
   "id": "06392a89",
   "metadata": {},
   "outputs": [
    {
     "name": "stdout",
     "output_type": "stream",
     "text": [
      "meow\n",
      "woof\n",
      "roar\n"
     ]
    }
   ],
   "source": [
    "c=Cat('brin')\n",
    "d=Dog('tommy')\n",
    "l=Lion('rashi')\n",
    "print(c.speak())\n",
    "print(d.speak())\n",
    "print(l.speak())"
   ]
  },
  {
   "cell_type": "code",
   "execution_count": null,
   "id": "acc1d16c",
   "metadata": {},
   "outputs": [],
   "source": []
  },
  {
   "cell_type": "markdown",
   "id": "da41a365",
   "metadata": {},
   "source": [
    "# hybrid inheritence"
   ]
  },
  {
   "cell_type": "code",
   "execution_count": null,
   "id": "b30f8c78",
   "metadata": {},
   "outputs": [],
   "source": []
  },
  {
   "cell_type": "code",
   "execution_count": null,
   "id": "94209a1f",
   "metadata": {},
   "outputs": [],
   "source": []
  },
  {
   "cell_type": "code",
   "execution_count": 53,
   "id": "42d040c4",
   "metadata": {},
   "outputs": [],
   "source": [
    "class Animal:\n",
    "    def __init__(self,name):\n",
    "        self.name=name\n",
    "        \n",
    "    def speak(self):\n",
    "        print(f'{self.name} is speaking')"
   ]
  },
  {
   "cell_type": "code",
   "execution_count": 54,
   "id": "a042c620",
   "metadata": {},
   "outputs": [],
   "source": [
    "class Mammal(Animal):\n",
    "    def __init__(self,name):\n",
    "        super().__init__(name)\n",
    "        \n",
    "    def feed_milk(self):\n",
    "        print(f\"{self.name} is feeding milk\")"
   ]
  },
  {
   "cell_type": "code",
   "execution_count": 55,
   "id": "d2025d05",
   "metadata": {},
   "outputs": [],
   "source": [
    "class Bird(Animal):\n",
    "    def __init__(self,name):\n",
    "        super().__init__(name)\n",
    "        \n",
    "    def fly(self):\n",
    "        print(f'{self.name} is flying')"
   ]
  },
  {
   "cell_type": "code",
   "execution_count": 56,
   "id": "5e4ea201",
   "metadata": {},
   "outputs": [],
   "source": [
    "class Bat(Mammal,Bird):\n",
    "    def __init__(self,name):\n",
    "        super().__init__(name)    "
   ]
  },
  {
   "cell_type": "code",
   "execution_count": 59,
   "id": "b77d8f18",
   "metadata": {},
   "outputs": [
    {
     "name": "stdout",
     "output_type": "stream",
     "text": [
      "Bruce is speaking\n",
      "Bruce is feeding milk\n",
      "Bruce is flying\n"
     ]
    }
   ],
   "source": [
    "b=Bat('Bruce')\n",
    "b.speak()\n",
    "b.feed_milk()\n",
    "b.fly()"
   ]
  },
  {
   "cell_type": "code",
   "execution_count": null,
   "id": "20f1afa3",
   "metadata": {},
   "outputs": [],
   "source": []
  }
 ],
 "metadata": {
  "kernelspec": {
   "display_name": "Python 3 (ipykernel)",
   "language": "python",
   "name": "python3"
  },
  "language_info": {
   "codemirror_mode": {
    "name": "ipython",
    "version": 3
   },
   "file_extension": ".py",
   "mimetype": "text/x-python",
   "name": "python",
   "nbconvert_exporter": "python",
   "pygments_lexer": "ipython3",
   "version": "3.11.3"
  }
 },
 "nbformat": 4,
 "nbformat_minor": 5
}
