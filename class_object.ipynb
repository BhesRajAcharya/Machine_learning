{
 "cells": [
  {
   "cell_type": "code",
   "execution_count": 2,
   "id": "4430821f",
   "metadata": {},
   "outputs": [],
   "source": [
    "class Dog:\n",
    "    def __init__(self,name,age):\n",
    "        self.name=name\n",
    "        self.age=age\n",
    "    def bark(self):\n",
    "        print(f\"{self.name} is barking\")"
   ]
  },
  {
   "cell_type": "code",
   "execution_count": 3,
   "id": "32ede8a2",
   "metadata": {},
   "outputs": [],
   "source": [
    "dog=Dog('tommy',5)"
   ]
  },
  {
   "cell_type": "code",
   "execution_count": 4,
   "id": "b3d6492a",
   "metadata": {},
   "outputs": [
    {
     "name": "stdout",
     "output_type": "stream",
     "text": [
      "tommy is barking\n"
     ]
    }
   ],
   "source": [
    "dog.bark()"
   ]
  },
  {
   "cell_type": "code",
   "execution_count": 6,
   "id": "31ca563b",
   "metadata": {},
   "outputs": [
    {
     "name": "stdout",
     "output_type": "stream",
     "text": [
      "<class '__main__.Dog'>\n"
     ]
    }
   ],
   "source": [
    "print(type(dog))"
   ]
  },
  {
   "cell_type": "code",
   "execution_count": 54,
   "id": "0eb4f0e5",
   "metadata": {},
   "outputs": [],
   "source": [
    "class Student:\n",
    "    count=0\n",
    "    def __init__(self,name):\n",
    "        self.n=name\n",
    "        Student.count+=1\n",
    "        \n",
    "    def details(self) :\n",
    "        print(f\"{self.n} is a student\")\n",
    "    @classmethod      \n",
    "    def get_count(cls) :  \n",
    "        return cls.count\n",
    "    @staticmethod\n",
    "    def get_fullname(firstname,secondname):\n",
    "        print(f\"full name is {firstname} {secondname}\")"
   ]
  },
  {
   "cell_type": "code",
   "execution_count": 55,
   "id": "fa863305",
   "metadata": {},
   "outputs": [
    {
     "name": "stdout",
     "output_type": "stream",
     "text": [
      "0\n"
     ]
    }
   ],
   "source": [
    "print(Student.get_count())"
   ]
  },
  {
   "cell_type": "code",
   "execution_count": 56,
   "id": "f65285eb",
   "metadata": {},
   "outputs": [
    {
     "name": "stdout",
     "output_type": "stream",
     "text": [
      "bijaya is a student\n",
      "1\n"
     ]
    }
   ],
   "source": [
    "s=Student('bijaya')\n",
    "s.details()\n",
    "print(Student.get_count())"
   ]
  },
  {
   "cell_type": "code",
   "execution_count": 57,
   "id": "04236853",
   "metadata": {},
   "outputs": [
    {
     "name": "stdout",
     "output_type": "stream",
     "text": [
      "2\n"
     ]
    }
   ],
   "source": [
    "s1=Student('ram')\n",
    "print(Student.get_count())"
   ]
  },
  {
   "cell_type": "code",
   "execution_count": 58,
   "id": "bf92fdfc",
   "metadata": {},
   "outputs": [
    {
     "name": "stdout",
     "output_type": "stream",
     "text": [
      "full name is bijaya acharya\n",
      "None\n"
     ]
    }
   ],
   "source": [
    "print(Student.get_fullname('bijaya','acharya'))"
   ]
  },
  {
   "cell_type": "markdown",
   "id": "7af16a81",
   "metadata": {},
   "source": [
    "# method overloading in python"
   ]
  },
  {
   "cell_type": "code",
   "execution_count": 1,
   "id": "9f54a734",
   "metadata": {},
   "outputs": [],
   "source": [
    "class Example:\n",
    "    def add(self,a,b=None,c=None):\n",
    "        if b is not None and c is not None:\n",
    "            return a+b+c\n",
    "        elif b is not None:\n",
    "            return a+b\n",
    "        else:\n",
    "            return a"
   ]
  },
  {
   "cell_type": "code",
   "execution_count": 2,
   "id": "3f408c81",
   "metadata": {},
   "outputs": [
    {
     "data": {
      "text/plain": [
       "6"
      ]
     },
     "execution_count": 2,
     "metadata": {},
     "output_type": "execute_result"
    }
   ],
   "source": [
    "e=Example()\n",
    "e.add(1,2,3)"
   ]
  },
  {
   "cell_type": "code",
   "execution_count": 3,
   "id": "215ca202",
   "metadata": {},
   "outputs": [
    {
     "data": {
      "text/plain": [
       "6"
      ]
     },
     "execution_count": 3,
     "metadata": {},
     "output_type": "execute_result"
    }
   ],
   "source": [
    "e.add(2,4)"
   ]
  },
  {
   "cell_type": "code",
   "execution_count": 4,
   "id": "51f3b90b",
   "metadata": {},
   "outputs": [
    {
     "data": {
      "text/plain": [
       "5"
      ]
     },
     "execution_count": 4,
     "metadata": {},
     "output_type": "execute_result"
    }
   ],
   "source": [
    "e.add(5)"
   ]
  },
  {
   "cell_type": "markdown",
   "id": "b9f2f745",
   "metadata": {},
   "source": [
    "# second method"
   ]
  },
  {
   "cell_type": "code",
   "execution_count": 10,
   "id": "a1cf2a83",
   "metadata": {},
   "outputs": [],
   "source": [
    "class Second:\n",
    "    def add(self,*args):\n",
    "        if len(args)==1:\n",
    "            return args[0]\n",
    "        elif len(args)==2:\n",
    "            return args[0]+args[1]\n",
    "        elif len(args)==3:\n",
    "            return args[0]+args[1]+args[2]"
   ]
  },
  {
   "cell_type": "code",
   "execution_count": 11,
   "id": "aa3cef01",
   "metadata": {},
   "outputs": [
    {
     "data": {
      "text/plain": [
       "12"
      ]
     },
     "execution_count": 11,
     "metadata": {},
     "output_type": "execute_result"
    }
   ],
   "source": [
    "s=Second()\n",
    "s.add(3,4,5)"
   ]
  },
  {
   "cell_type": "code",
   "execution_count": 12,
   "id": "b0da51ed",
   "metadata": {},
   "outputs": [
    {
     "data": {
      "text/plain": [
       "7"
      ]
     },
     "execution_count": 12,
     "metadata": {},
     "output_type": "execute_result"
    }
   ],
   "source": [
    "s.add(3,4)"
   ]
  },
  {
   "cell_type": "code",
   "execution_count": 13,
   "id": "07451290",
   "metadata": {},
   "outputs": [
    {
     "data": {
      "text/plain": [
       "5"
      ]
     },
     "execution_count": 13,
     "metadata": {},
     "output_type": "execute_result"
    }
   ],
   "source": [
    "s.add(5)"
   ]
  },
  {
   "cell_type": "markdown",
   "id": "89c22282",
   "metadata": {},
   "source": [
    "# inheritance"
   ]
  },
  {
   "cell_type": "code",
   "execution_count": 29,
   "id": "d4fa6cef",
   "metadata": {},
   "outputs": [],
   "source": [
    "class Person:\n",
    "    def __init__(self,name,age):\n",
    "        self.name=name\n",
    "        self.age=age\n",
    "    def intro(self):\n",
    "        print(\"hello i am a person.\")"
   ]
  },
  {
   "cell_type": "code",
   "execution_count": 32,
   "id": "2008dd1d",
   "metadata": {},
   "outputs": [],
   "source": [
    "class Employee(Person):\n",
    "    def __init__(self,name,age,department,salary):\n",
    "        super().__init__(name,age)\n",
    "        self.department=department\n",
    "        self.salary=salary\n",
    "        \n",
    "    def display(self):\n",
    "        print(f\"my name is {self.name} i am {self.age} years old and work in {self.department} department and my salary is {self.salary}\")"
   ]
  },
  {
   "cell_type": "code",
   "execution_count": 33,
   "id": "66a1f989",
   "metadata": {},
   "outputs": [
    {
     "name": "stdout",
     "output_type": "stream",
     "text": [
      "hello i am a person.\n",
      "my name is bijaya i am 17 years old and work in physics department and my salary is 20000\n"
     ]
    }
   ],
   "source": [
    "emp=Employee('bijaya',17,'physics',20000)\n",
    "emp.intro()\n",
    "emp.display()"
   ]
  },
  {
   "cell_type": "markdown",
   "id": "b53f0b2c",
   "metadata": {},
   "source": [
    "# multiple inheritence"
   ]
  },
  {
   "cell_type": "code",
   "execution_count": 40,
   "id": "1061b37c",
   "metadata": {},
   "outputs": [],
   "source": [
    "class Parent:\n",
    "    def func1(self):\n",
    "        print('this is a first parent class')"
   ]
  },
  {
   "cell_type": "code",
   "execution_count": 41,
   "id": "deead570",
   "metadata": {},
   "outputs": [],
   "source": [
    "class Parent1:\n",
    "    def func2(self):\n",
    "        print('this is a second parent class')"
   ]
  },
  {
   "cell_type": "code",
   "execution_count": 42,
   "id": "8db8e6e9",
   "metadata": {},
   "outputs": [],
   "source": [
    "class child(Parent,Parent1):\n",
    "    def func3(self):\n",
    "        print('this is a child class')"
   ]
  },
  {
   "cell_type": "code",
   "execution_count": 43,
   "id": "b706d1ed",
   "metadata": {},
   "outputs": [
    {
     "name": "stdout",
     "output_type": "stream",
     "text": [
      "this is a first parent class\n"
     ]
    }
   ],
   "source": [
    "ch=child()\n",
    "ch.func1()"
   ]
  },
  {
   "cell_type": "code",
   "execution_count": 44,
   "id": "2d32fec9",
   "metadata": {},
   "outputs": [
    {
     "name": "stdout",
     "output_type": "stream",
     "text": [
      "this is a second parent class\n"
     ]
    }
   ],
   "source": [
    "ch.func2()"
   ]
  },
  {
   "cell_type": "code",
   "execution_count": 45,
   "id": "c45dfaa6",
   "metadata": {},
   "outputs": [
    {
     "name": "stdout",
     "output_type": "stream",
     "text": [
      "this is a child class\n"
     ]
    }
   ],
   "source": [
    "ch.func3()"
   ]
  },
  {
   "cell_type": "markdown",
   "id": "b9653873",
   "metadata": {},
   "source": [
    "# multilevel inheritence"
   ]
  },
  {
   "cell_type": "code",
   "execution_count": 46,
   "id": "ded9deca",
   "metadata": {},
   "outputs": [],
   "source": [
    "class A:\n",
    "    def method_a(self):\n",
    "        print('This is method A form class A')"
   ]
  },
  {
   "cell_type": "code",
   "execution_count": 47,
   "id": "9f1de6dc",
   "metadata": {},
   "outputs": [],
   "source": [
    "class B(A):\n",
    "    def method_b(self):\n",
    "        print('This is method B from class B')"
   ]
  },
  {
   "cell_type": "code",
   "execution_count": 48,
   "id": "db0236d7",
   "metadata": {},
   "outputs": [],
   "source": [
    "class C(B):\n",
    "    def method_c(self):\n",
    "        print('This is method C from class C')"
   ]
  },
  {
   "cell_type": "code",
   "execution_count": 58,
   "id": "3dc78000",
   "metadata": {},
   "outputs": [
    {
     "name": "stdout",
     "output_type": "stream",
     "text": [
      "This is method A form class A\n",
      "This is method B from class B\n",
      "This is method C from class C\n",
      "This is method A form class A\n",
      "This is method B from class B\n"
     ]
    }
   ],
   "source": [
    "c=C()\n",
    "c.method_a()\n",
    "c.method_b()\n",
    "c.method_c()\n",
    "b=B()\n",
    "b.method_a()\n",
    "b.method_b()"
   ]
  },
  {
   "cell_type": "code",
   "execution_count": 63,
   "id": "cedf71e0",
   "metadata": {},
   "outputs": [],
   "source": [
    "class Animal:\n",
    "    def __init__(self,name):\n",
    "        self.name=name"
   ]
  },
  {
   "cell_type": "code",
   "execution_count": 64,
   "id": "90a9eb97",
   "metadata": {},
   "outputs": [],
   "source": [
    "class Cat(Animal):\n",
    "    def speak(self):\n",
    "        return 'meow'"
   ]
  },
  {
   "cell_type": "code",
   "execution_count": 65,
   "id": "35c7da95",
   "metadata": {},
   "outputs": [],
   "source": [
    "class Lion(Animal):\n",
    "    def speak(self):\n",
    "        return 'roar'\n"
   ]
  },
  {
   "cell_type": "code",
   "execution_count": 66,
   "id": "e96c8e04",
   "metadata": {},
   "outputs": [],
   "source": [
    "class Dog(Animal):\n",
    "    def speak(self):\n",
    "        return 'woof'"
   ]
  },
  {
   "cell_type": "code",
   "execution_count": 68,
   "id": "06392a89",
   "metadata": {},
   "outputs": [
    {
     "name": "stdout",
     "output_type": "stream",
     "text": [
      "meow\n",
      "woof\n",
      "roar\n"
     ]
    }
   ],
   "source": [
    "c=Cat('brin')\n",
    "d=Dog('tommy')\n",
    "l=Lion('rashi')\n",
    "print(c.speak())\n",
    "print(d.speak())\n",
    "print(l.speak())"
   ]
  },
  {
   "cell_type": "code",
   "execution_count": null,
   "id": "acc1d16c",
   "metadata": {},
   "outputs": [],
   "source": []
  },
  {
   "cell_type": "markdown",
   "id": "da41a365",
   "metadata": {},
   "source": [
    "# hybrid inheritence"
   ]
  },
  {
   "cell_type": "code",
   "execution_count": null,
   "id": "b30f8c78",
   "metadata": {},
   "outputs": [],
   "source": []
  },
  {
   "cell_type": "code",
   "execution_count": null,
   "id": "94209a1f",
   "metadata": {},
   "outputs": [],
   "source": []
  },
  {
   "cell_type": "code",
   "execution_count": 53,
   "id": "42d040c4",
   "metadata": {},
   "outputs": [],
   "source": [
    "class Animal:\n",
    "    def __init__(self,name):\n",
    "        self.name=name\n",
    "        \n",
    "    def speak(self):\n",
    "        print(f'{self.name} is speaking')"
   ]
  },
  {
   "cell_type": "code",
   "execution_count": 54,
   "id": "a042c620",
   "metadata": {},
   "outputs": [],
   "source": [
    "class Mammal(Animal):\n",
    "    def __init__(self,name):\n",
    "        super().__init__(name)\n",
    "        \n",
    "    def feed_milk(self):\n",
    "        print(f\"{self.name} is feeding milk\")"
   ]
  },
  {
   "cell_type": "code",
   "execution_count": 55,
   "id": "d2025d05",
   "metadata": {},
   "outputs": [],
   "source": [
    "class Bird(Animal):\n",
    "    def __init__(self,name):\n",
    "        super().__init__(name)\n",
    "        \n",
    "    def fly(self):\n",
    "        print(f'{self.name} is flying')"
   ]
  },
  {
   "cell_type": "code",
   "execution_count": 56,
   "id": "5e4ea201",
   "metadata": {},
   "outputs": [],
   "source": [
    "class Bat(Mammal,Bird):\n",
    "    def __init__(self,name):\n",
    "        super().__init__(name)    "
   ]
  },
  {
   "cell_type": "code",
   "execution_count": 59,
   "id": "b77d8f18",
   "metadata": {},
   "outputs": [
    {
     "name": "stdout",
     "output_type": "stream",
     "text": [
      "Bruce is speaking\n",
      "Bruce is feeding milk\n",
      "Bruce is flying\n"
     ]
    }
   ],
   "source": [
    "b=Bat('Bruce')\n",
    "b.speak()\n",
    "b.feed_milk()\n",
    "b.fly()"
   ]
  },
  {
   "cell_type": "markdown",
   "id": "4f4b09e1",
   "metadata": {},
   "source": [
    "# method overriding "
   ]
  },
  {
   "cell_type": "code",
   "execution_count": 11,
   "id": "e8757705",
   "metadata": {},
   "outputs": [],
   "source": [
    "class Animal:\n",
    "    def sound(self):\n",
    "        print('making some sound')"
   ]
  },
  {
   "cell_type": "code",
   "execution_count": 12,
   "id": "f16f4cf7",
   "metadata": {},
   "outputs": [],
   "source": [
    "class Dog(Animal):\n",
    "    def sound(self):\n",
    "        print('barking')"
   ]
  },
  {
   "cell_type": "code",
   "execution_count": 13,
   "id": "c273a384",
   "metadata": {},
   "outputs": [],
   "source": [
    "class Cat(Animal):\n",
    "    def sound(self):\n",
    "        print('meow')"
   ]
  },
  {
   "cell_type": "code",
   "execution_count": 14,
   "id": "50d813aa",
   "metadata": {},
   "outputs": [
    {
     "name": "stdout",
     "output_type": "stream",
     "text": [
      "making some sound\n",
      "barking\n",
      "meow\n"
     ]
    }
   ],
   "source": [
    "animal=Animal()\n",
    "animal.sound()\n",
    "dog=Dog()\n",
    "dog.sound()\n",
    "cat=Cat()\n",
    "cat.sound()"
   ]
  },
  {
   "cell_type": "code",
   "execution_count": 15,
   "id": "6f10f34c",
   "metadata": {},
   "outputs": [],
   "source": [
    "class Animal:\n",
    "    def  sound(self):\n",
    "        print('making some sound')"
   ]
  },
  {
   "cell_type": "code",
   "execution_count": 16,
   "id": "d1614d22",
   "metadata": {},
   "outputs": [],
   "source": [
    "class Base:\n",
    "    def sound(self):\n",
    "        print('Base sound 2')"
   ]
  },
  {
   "cell_type": "code",
   "execution_count": 17,
   "id": "a41ac50a",
   "metadata": {},
   "outputs": [],
   "source": [
    "class Dog(Animal,Base):\n",
    "    def speak(self):\n",
    "        print('barking')"
   ]
  },
  {
   "cell_type": "code",
   "execution_count": 18,
   "id": "9dd4d075",
   "metadata": {},
   "outputs": [
    {
     "name": "stdout",
     "output_type": "stream",
     "text": [
      "making some sound\n"
     ]
    }
   ],
   "source": [
    "animal=Animal()\n",
    "animal.sound()"
   ]
  },
  {
   "cell_type": "code",
   "execution_count": 19,
   "id": "c1f8ccc0",
   "metadata": {},
   "outputs": [
    {
     "name": "stdout",
     "output_type": "stream",
     "text": [
      "Base sound 2\n"
     ]
    }
   ],
   "source": [
    "base=Base()\n",
    "base.sound()"
   ]
  },
  {
   "cell_type": "code",
   "execution_count": 20,
   "id": "2010fa2b",
   "metadata": {},
   "outputs": [
    {
     "name": "stdout",
     "output_type": "stream",
     "text": [
      "making some sound\n"
     ]
    }
   ],
   "source": [
    "dog=Dog()\n",
    "dog.sound()"
   ]
  },
  {
   "cell_type": "code",
   "execution_count": 21,
   "id": "57374e99",
   "metadata": {},
   "outputs": [
    {
     "name": "stdout",
     "output_type": "stream",
     "text": [
      "barking\n"
     ]
    }
   ],
   "source": [
    "dog.speak()"
   ]
  },
  {
   "cell_type": "code",
   "execution_count": 24,
   "id": "9b304758",
   "metadata": {},
   "outputs": [],
   "source": [
    "class Animal:\n",
    "    def sound(self):\n",
    "        print('sound from parent class')"
   ]
  },
  {
   "cell_type": "code",
   "execution_count": 25,
   "id": "d73eee83",
   "metadata": {},
   "outputs": [],
   "source": [
    "class Dog(Animal):\n",
    "    def sound(self):\n",
    "        print('barking')\n",
    "        super().sound()"
   ]
  },
  {
   "cell_type": "code",
   "execution_count": 26,
   "id": "341939a2",
   "metadata": {},
   "outputs": [
    {
     "name": "stdout",
     "output_type": "stream",
     "text": [
      "barking\n",
      "sound from parent class\n"
     ]
    }
   ],
   "source": [
    "dog=Dog()\n",
    "dog.sound()"
   ]
  },
  {
   "cell_type": "markdown",
   "id": "973fdbdb",
   "metadata": {},
   "source": [
    "# Encapsulation"
   ]
  },
  {
   "cell_type": "code",
   "execution_count": 36,
   "id": "18dec45d",
   "metadata": {},
   "outputs": [],
   "source": [
    "class Example:\n",
    "    def __init__(self):\n",
    "        self.public_var=1\n",
    "        self._protected_var=2\n",
    "        self.__private_var=3\n",
    "        \n",
    "    def public_method(self) :\n",
    "          print('this is a public method')\n",
    "    def _protected_method(self):\n",
    "         print('this is a protected method') \n",
    "            \n",
    "    def __private_method(self):\n",
    "        print('this is a private method') \n",
    "        \n",
    "        "
   ]
  },
  {
   "cell_type": "code",
   "execution_count": 39,
   "id": "415ba441",
   "metadata": {},
   "outputs": [],
   "source": [
    "class subclass(Example):\n",
    "    def __init__(self):\n",
    "        super().__init__()\n",
    "        \n",
    "        \n",
    "    def get_public_member(self) :\n",
    "        print(self.public_var)\n",
    "        \n",
    "        \n",
    "    def get_protected_member(self) :\n",
    "        print(self._protected_var)\n",
    "        \n",
    "        \n",
    "    def get_private_member(self) :\n",
    "        print(self.__private_var)   "
   ]
  },
  {
   "cell_type": "code",
   "execution_count": 40,
   "id": "b4f2a8d1",
   "metadata": {},
   "outputs": [
    {
     "name": "stdout",
     "output_type": "stream",
     "text": [
      "1\n",
      "2\n"
     ]
    },
    {
     "ename": "AttributeError",
     "evalue": "'subclass' object has no attribute '_subclass__private_var'",
     "output_type": "error",
     "traceback": [
      "\u001b[1;31m---------------------------------------------------------------------------\u001b[0m",
      "\u001b[1;31mAttributeError\u001b[0m                            Traceback (most recent call last)",
      "Cell \u001b[1;32mIn[40], line 4\u001b[0m\n\u001b[0;32m      2\u001b[0m sub\u001b[38;5;241m.\u001b[39mget_public_member()\n\u001b[0;32m      3\u001b[0m sub\u001b[38;5;241m.\u001b[39mget_protected_member()\n\u001b[1;32m----> 4\u001b[0m \u001b[43msub\u001b[49m\u001b[38;5;241;43m.\u001b[39;49m\u001b[43mget_private_member\u001b[49m\u001b[43m(\u001b[49m\u001b[43m)\u001b[49m\n",
      "Cell \u001b[1;32mIn[39], line 15\u001b[0m, in \u001b[0;36msubclass.get_private_member\u001b[1;34m(self)\u001b[0m\n\u001b[0;32m     14\u001b[0m \u001b[38;5;28;01mdef\u001b[39;00m \u001b[38;5;21mget_private_member\u001b[39m(\u001b[38;5;28mself\u001b[39m) :\n\u001b[1;32m---> 15\u001b[0m     \u001b[38;5;28mprint\u001b[39m(\u001b[38;5;28;43mself\u001b[39;49m\u001b[38;5;241;43m.\u001b[39;49m\u001b[43m__private_var\u001b[49m)\n",
      "\u001b[1;31mAttributeError\u001b[0m: 'subclass' object has no attribute '_subclass__private_var'"
     ]
    }
   ],
   "source": [
    "sub=subclass()\n",
    "sub.get_public_member()\n",
    "sub.get_protected_member()\n",
    "sub.get_private_member()#cannot access"
   ]
  },
  {
   "cell_type": "code",
   "execution_count": 41,
   "id": "d75efa0c",
   "metadata": {},
   "outputs": [
    {
     "name": "stdout",
     "output_type": "stream",
     "text": [
      "this is a public method\n",
      "this is a protected method\n"
     ]
    },
    {
     "ename": "AttributeError",
     "evalue": "'Example' object has no attribute '__private_method'",
     "output_type": "error",
     "traceback": [
      "\u001b[1;31m---------------------------------------------------------------------------\u001b[0m",
      "\u001b[1;31mAttributeError\u001b[0m                            Traceback (most recent call last)",
      "Cell \u001b[1;32mIn[41], line 4\u001b[0m\n\u001b[0;32m      2\u001b[0m ex\u001b[38;5;241m.\u001b[39mpublic_method()\n\u001b[0;32m      3\u001b[0m ex\u001b[38;5;241m.\u001b[39m_protected_method()\n\u001b[1;32m----> 4\u001b[0m \u001b[43mex\u001b[49m\u001b[38;5;241;43m.\u001b[39;49m\u001b[43m__private_method\u001b[49m()\n",
      "\u001b[1;31mAttributeError\u001b[0m: 'Example' object has no attribute '__private_method'"
     ]
    }
   ],
   "source": [
    "ex=Example()\n",
    "ex.public_method()\n",
    "ex._protected_method()\n",
    "ex.__private_method()#cannot access"
   ]
  },
  {
   "cell_type": "markdown",
   "id": "cce45f93",
   "metadata": {},
   "source": [
    "# duck typying"
   ]
  },
  {
   "cell_type": "code",
   "execution_count": 45,
   "id": "213dc843",
   "metadata": {},
   "outputs": [],
   "source": [
    "class Car:\n",
    "    def drive(self):\n",
    "        print('car driving')"
   ]
  },
  {
   "cell_type": "code",
   "execution_count": 46,
   "id": "8d66e6dd",
   "metadata": {},
   "outputs": [],
   "source": [
    "class Bike:\n",
    "    def drive(self):\n",
    "        print('bike driving')"
   ]
  },
  {
   "cell_type": "code",
   "execution_count": 54,
   "id": "b168cea9",
   "metadata": {},
   "outputs": [],
   "source": [
    "def driving(veichle):\n",
    "    veichle.drive()"
   ]
  },
  {
   "cell_type": "code",
   "execution_count": 58,
   "id": "410ee072",
   "metadata": {},
   "outputs": [
    {
     "name": "stdout",
     "output_type": "stream",
     "text": [
      "bike driving\n",
      "car driving\n"
     ]
    }
   ],
   "source": [
    "bike=Bike()\n",
    "driving(bike)\n",
    "car=Car()\n",
    "driving(car)"
   ]
  },
  {
   "cell_type": "markdown",
   "id": "e53dce2a",
   "metadata": {},
   "source": [
    "# Abstraction"
   ]
  },
  {
   "cell_type": "code",
   "execution_count": 48,
   "id": "90ed999f",
   "metadata": {},
   "outputs": [],
   "source": [
    "from abc import ABC,abstractmethod\n",
    "class shape(ABC):\n",
    "    @abstractmethod\n",
    "    def area(self):\n",
    "        pass\n",
    "    @abstractmethod\n",
    "    def perimeter(self) :\n",
    "        pass"
   ]
  },
  {
   "cell_type": "code",
   "execution_count": 69,
   "id": "1995dc09",
   "metadata": {},
   "outputs": [],
   "source": [
    "class Reactangle(shape):\n",
    "    def __init__(self,length,width,height):\n",
    "        self.length=length\n",
    "        self.width=width\n",
    "        self.height=height\n",
    "        \n",
    "    def area(self) :\n",
    "        return self.length*self.width\n",
    "    \n",
    "    def perimeter(self):\n",
    "        return 2*self.length*self.width\n",
    "    \n",
    "    def volume(self):\n",
    "        return self.length*self.height*self.width"
   ]
  },
  {
   "cell_type": "code",
   "execution_count": 70,
   "id": "d22a3eec",
   "metadata": {},
   "outputs": [
    {
     "data": {
      "text/plain": [
       "30"
      ]
     },
     "execution_count": 70,
     "metadata": {},
     "output_type": "execute_result"
    }
   ],
   "source": [
    "rectangle=Reactangle(5,6,7)\n",
    "rectangle.area()"
   ]
  },
  {
   "cell_type": "code",
   "execution_count": 71,
   "id": "82cff1d1",
   "metadata": {},
   "outputs": [
    {
     "data": {
      "text/plain": [
       "60"
      ]
     },
     "execution_count": 71,
     "metadata": {},
     "output_type": "execute_result"
    }
   ],
   "source": [
    "rectangle.perimeter()"
   ]
  },
  {
   "cell_type": "code",
   "execution_count": 72,
   "id": "937fda95",
   "metadata": {},
   "outputs": [
    {
     "data": {
      "text/plain": [
       "210"
      ]
     },
     "execution_count": 72,
     "metadata": {},
     "output_type": "execute_result"
    }
   ],
   "source": [
    "rectangle.volume()"
   ]
  },
  {
   "cell_type": "code",
   "execution_count": 73,
   "id": "03d6c4d1",
   "metadata": {},
   "outputs": [],
   "source": [
    "#design a program to control speed of a car and bike independently .also cosider turning phenomenon of each using staring if its car and handle if its a bike"
   ]
  },
  {
   "cell_type": "code",
   "execution_count": 74,
   "id": "82884193",
   "metadata": {},
   "outputs": [],
   "source": [
    "class Parent:\n",
    "    def speed(self):\n",
    "        print('speed control')"
   ]
  },
  {
   "cell_type": "code",
   "execution_count": 76,
   "id": "fff76514",
   "metadata": {},
   "outputs": [],
   "source": [
    "class Bike(Parent):\n",
    "    def turning(self):\n",
    "        print('turn left by handle')\n",
    "    "
   ]
  },
  {
   "cell_type": "code",
   "execution_count": 77,
   "id": "cd2bf69b",
   "metadata": {},
   "outputs": [],
   "source": [
    "class Car(Parent):\n",
    "    def turning(self):\n",
    "        print('right turn by staring')"
   ]
  },
  {
   "cell_type": "code",
   "execution_count": 78,
   "id": "3997fc29",
   "metadata": {},
   "outputs": [
    {
     "name": "stdout",
     "output_type": "stream",
     "text": [
      "speed control\n",
      "turn left by handle\n"
     ]
    }
   ],
   "source": [
    "b=Bike()\n",
    "b.speed()\n",
    "b.turning()"
   ]
  },
  {
   "cell_type": "code",
   "execution_count": 79,
   "id": "c0fb48fd",
   "metadata": {},
   "outputs": [
    {
     "name": "stdout",
     "output_type": "stream",
     "text": [
      "speed control\n",
      "right turn by staring\n"
     ]
    }
   ],
   "source": [
    "c=Car()\n",
    "c.speed()\n",
    "c.turning()"
   ]
  },
  {
   "cell_type": "markdown",
   "id": "2aa40652",
   "metadata": {},
   "source": [
    "# Exception handeling"
   ]
  },
  {
   "cell_type": "code",
   "execution_count": 5,
   "id": "8a132c69",
   "metadata": {},
   "outputs": [
    {
     "name": "stdout",
     "output_type": "stream",
     "text": [
      "enter a numberabc\n",
      "invalid inputs\n"
     ]
    }
   ],
   "source": [
    "try:\n",
    "    inp=input('enter a number')\n",
    "    num=int(inp)\n",
    "    print(num)\n",
    "except ValueError:\n",
    "    print('invalid inputs')"
   ]
  },
  {
   "cell_type": "code",
   "execution_count": 9,
   "id": "dc8ffc34",
   "metadata": {},
   "outputs": [
    {
     "name": "stdout",
     "output_type": "stream",
     "text": [
      "enter first number12\n",
      "enter second numberabc\n",
      "invalid data type is given\n"
     ]
    }
   ],
   "source": [
    "try:\n",
    "    num=int(input('enter first number'))\n",
    "    num1=int(input('enter second number'))\n",
    "    print(num/num1)\n",
    "except ValueError:\n",
    "    print('invalid data type is given')\n",
    "except ZeroDivisionError:\n",
    "    print('cannot divide by zero')"
   ]
  },
  {
   "cell_type": "code",
   "execution_count": 11,
   "id": "0ab81100",
   "metadata": {},
   "outputs": [
    {
     "name": "stdout",
     "output_type": "stream",
     "text": [
      "could not convert form String to integer\n"
     ]
    }
   ],
   "source": [
    "num_str='abcd'\n",
    "try:\n",
    "    num=int(num_str)\n",
    "    print(num)\n",
    "    \n",
    "except (ValueError,TypeError):\n",
    "    print('could not convert form String to integer')"
   ]
  },
  {
   "cell_type": "code",
   "execution_count": 12,
   "id": "a379bbde",
   "metadata": {},
   "outputs": [
    {
     "name": "stdout",
     "output_type": "stream",
     "text": [
      "An Exception occured\n"
     ]
    }
   ],
   "source": [
    "num_str='abcd'\n",
    "try:\n",
    "    num=int(num_str)\n",
    "    print(num)\n",
    "    \n",
    "except Exception:\n",
    "    print('An Exception occured')"
   ]
  },
  {
   "cell_type": "code",
   "execution_count": 14,
   "id": "00bfbcc1",
   "metadata": {},
   "outputs": [
    {
     "name": "stdout",
     "output_type": "stream",
     "text": [
      "enter first number12\n",
      "enter second number0\n",
      "cannot divide by zero\n"
     ]
    }
   ],
   "source": [
    "try:\n",
    "    num=int(input('enter first number'))\n",
    "    num1=int(input('enter second number'))\n",
    "    result=num/num1\n",
    "except ZeroDivisionError:\n",
    "    print('cannot divide by zero')\n",
    "else:\n",
    "    print(f'result is {result}')"
   ]
  },
  {
   "cell_type": "code",
   "execution_count": 16,
   "id": "882c0730",
   "metadata": {},
   "outputs": [
    {
     "name": "stdout",
     "output_type": "stream",
     "text": [
      "enter first number12\n",
      "enter second number3\n",
      "result is 4.0\n",
      "finally block is always executed\n"
     ]
    }
   ],
   "source": [
    "try:\n",
    "    num=int(input('enter first number'))\n",
    "    num1=int(input('enter second number'))\n",
    "    result=num/num1\n",
    "except ZeroDivisionError:\n",
    "    print('cannot divide by zero')\n",
    "else:\n",
    "    print(f'result is {result}')\n",
    "    \n",
    "finally:\n",
    "    print('finally block is always executed')"
   ]
  },
  {
   "cell_type": "code",
   "execution_count": null,
   "id": "ed374c3e",
   "metadata": {},
   "outputs": [],
   "source": []
  }
 ],
 "metadata": {
  "kernelspec": {
   "display_name": "Python 3 (ipykernel)",
   "language": "python",
   "name": "python3"
  },
  "language_info": {
   "codemirror_mode": {
    "name": "ipython",
    "version": 3
   },
   "file_extension": ".py",
   "mimetype": "text/x-python",
   "name": "python",
   "nbconvert_exporter": "python",
   "pygments_lexer": "ipython3",
   "version": "3.11.3"
  }
 },
 "nbformat": 4,
 "nbformat_minor": 5
}
